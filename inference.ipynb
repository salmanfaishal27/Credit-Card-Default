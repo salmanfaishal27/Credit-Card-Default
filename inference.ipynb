{
 "cells": [
  {
   "cell_type": "code",
   "execution_count": 1,
   "metadata": {},
   "outputs": [],
   "source": [
    "import pickle\n",
    "import pandas as pd\n",
    "import numpy as np"
   ]
  },
  {
   "cell_type": "code",
   "execution_count": 2,
   "metadata": {},
   "outputs": [],
   "source": [
    "with open('best_tree.pkl', 'rb') as file_model:\n",
    "  model = pickle.load(file_model)"
   ]
  },
  {
   "cell_type": "code",
   "execution_count": 3,
   "metadata": {},
   "outputs": [
    {
     "data": {
      "text/html": [
       "<div>\n",
       "<style scoped>\n",
       "    .dataframe tbody tr th:only-of-type {\n",
       "        vertical-align: middle;\n",
       "    }\n",
       "\n",
       "    .dataframe tbody tr th {\n",
       "        vertical-align: top;\n",
       "    }\n",
       "\n",
       "    .dataframe thead th {\n",
       "        text-align: right;\n",
       "    }\n",
       "</style>\n",
       "<table border=\"1\" class=\"dataframe\">\n",
       "  <thead>\n",
       "    <tr style=\"text-align: right;\">\n",
       "      <th></th>\n",
       "      <th>limit_balance</th>\n",
       "      <th>sex</th>\n",
       "      <th>education_level</th>\n",
       "      <th>marital_status</th>\n",
       "      <th>age</th>\n",
       "      <th>pay_0</th>\n",
       "      <th>pay_2</th>\n",
       "      <th>pay_3</th>\n",
       "      <th>pay_4</th>\n",
       "      <th>pay_5</th>\n",
       "      <th>...</th>\n",
       "      <th>bill_amt_3</th>\n",
       "      <th>bill_amt_4</th>\n",
       "      <th>bill_amt_5</th>\n",
       "      <th>bill_amt_6</th>\n",
       "      <th>pay_amt_1</th>\n",
       "      <th>pay_amt_2</th>\n",
       "      <th>pay_amt_3</th>\n",
       "      <th>pay_amt_4</th>\n",
       "      <th>pay_amt_5</th>\n",
       "      <th>pay_amt_6</th>\n",
       "    </tr>\n",
       "  </thead>\n",
       "  <tbody>\n",
       "    <tr>\n",
       "      <th>0</th>\n",
       "      <td>130000</td>\n",
       "      <td>1</td>\n",
       "      <td>1</td>\n",
       "      <td>1</td>\n",
       "      <td>45</td>\n",
       "      <td>0</td>\n",
       "      <td>0</td>\n",
       "      <td>0</td>\n",
       "      <td>0</td>\n",
       "      <td>0</td>\n",
       "      <td>...</td>\n",
       "      <td>61156</td>\n",
       "      <td>62377</td>\n",
       "      <td>63832</td>\n",
       "      <td>65099</td>\n",
       "      <td>2886</td>\n",
       "      <td>2908</td>\n",
       "      <td>2129</td>\n",
       "      <td>2354</td>\n",
       "      <td>2366</td>\n",
       "      <td>2291</td>\n",
       "    </tr>\n",
       "  </tbody>\n",
       "</table>\n",
       "<p>1 rows × 23 columns</p>\n",
       "</div>"
      ],
      "text/plain": [
       "   limit_balance  sex  education_level  marital_status  age  pay_0  pay_2  \\\n",
       "0         130000    1                1               1   45      0      0   \n",
       "\n",
       "   pay_3  pay_4  pay_5  ...  bill_amt_3  bill_amt_4  bill_amt_5  bill_amt_6  \\\n",
       "0      0      0      0  ...       61156       62377       63832       65099   \n",
       "\n",
       "   pay_amt_1  pay_amt_2  pay_amt_3  pay_amt_4  pay_amt_5  pay_amt_6  \n",
       "0       2886       2908       2129       2354       2366       2291  \n",
       "\n",
       "[1 rows x 23 columns]"
      ]
     },
     "execution_count": 3,
     "metadata": {},
     "output_type": "execute_result"
    }
   ],
   "source": [
    "data_inf = {\n",
    "'limit_balance' : 130000, \n",
    "'sex' : 1, \n",
    "'education_level': 1, \n",
    "'marital_status': 1, \n",
    "'age' : 45,\n",
    "'pay_0' : 0, \n",
    "'pay_2' : 0, \n",
    "'pay_3' : 0, \n",
    "'pay_4' : 0, \n",
    "'pay_5' : 0, \n",
    "'pay_6' : 0, \n",
    "'bill_amt_1' : 58180,\n",
    "'bill_amt_2' : 59134, \n",
    "'bill_amt_3' : 61156, \n",
    "'bill_amt_4' : 62377, \n",
    "'bill_amt_5' : 63832, \n",
    "'bill_amt_6' : 65099,\n",
    "'pay_amt_1' : 2886, \n",
    "'pay_amt_2' : 2908, \n",
    "'pay_amt_3' : 2129, \n",
    "'pay_amt_4' : 2354, \n",
    "'pay_amt_5' : 2366,\n",
    "'pay_amt_6' : 2291, \n",
    "}\n",
    "\n",
    "data_inf = pd.DataFrame([data_inf])\n",
    "data_inf"
   ]
  },
  {
   "cell_type": "code",
   "execution_count": 4,
   "metadata": {},
   "outputs": [
    {
     "name": "stdout",
     "output_type": "stream",
     "text": [
      "Hasil Prediksi :  [0]\n"
     ]
    }
   ],
   "source": [
    "pred = model.predict(data_inf)\n",
    "print('Hasil Prediksi : ', pred)"
   ]
  }
 ],
 "metadata": {
  "kernelspec": {
   "display_name": "Python 3",
   "language": "python",
   "name": "python3"
  },
  "language_info": {
   "codemirror_mode": {
    "name": "ipython",
    "version": 3
   },
   "file_extension": ".py",
   "mimetype": "text/x-python",
   "name": "python",
   "nbconvert_exporter": "python",
   "pygments_lexer": "ipython3",
   "version": "3.10.4"
  },
  "orig_nbformat": 4,
  "vscode": {
   "interpreter": {
    "hash": "4217bdb66c1619d3c7bf3a5f6dea8f7bd4200ce5b7b90b812037b80bad35d2ee"
   }
  }
 },
 "nbformat": 4,
 "nbformat_minor": 2
}
